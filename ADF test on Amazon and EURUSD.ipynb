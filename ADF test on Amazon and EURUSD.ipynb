{
 "cells": [
  {
   "cell_type": "markdown",
   "metadata": {},
   "source": [
    "# The Augmented Dickey-Fuller test for mean reversion"
   ]
  },
  {
   "cell_type": "markdown",
   "metadata": {},
   "source": [
    "The Augmented Dickey Fuller test is a statistical test carried out to check for mean reversion in financial instruments.\n",
    "It builds the foundation for some investment strategies. For instance, if a stock displays mean reversion; at exrtreme price levels a counter order can be placed with the assurance that the price will reverse towards the rolling mean (average).\n",
    "Below I have implemented the test on Amazon stocks and EURUSD (currency pair)"
   ]
  },
  {
   "cell_type": "code",
   "execution_count": 4,
   "metadata": {},
   "outputs": [],
   "source": [
    "import numpy as np\n",
    "import pandas as pd\n",
    "import matplotlib.pyplot as plt\n",
    "import statsmodels.tsa.stattools as ts\n",
    "from datetime import datetime\n",
    "%matplotlib inline"
   ]
  },
  {
   "cell_type": "code",
   "execution_count": 5,
   "metadata": {},
   "outputs": [],
   "source": [
    "# Loading the amazon data and storing it in the variable amzn\n",
    "\n",
    "amzn = pd.read_csv(\"AMZN_CLOSE.csv\")"
   ]
  },
  {
   "cell_type": "code",
   "execution_count": 6,
   "metadata": {},
   "outputs": [],
   "source": [
    "# Importing the library for parsing currency pairs \n",
    "\n",
    "from forex_python.converter import CurrencyRates\n",
    "c = CurrencyRates()"
   ]
  },
  {
   "cell_type": "code",
   "execution_count": 40,
   "metadata": {},
   "outputs": [],
   "source": [
    "# Setting the parameters for loading the json file of EURUSD\n",
    "currency = \"EURUSD\"\n",
    "api_key = \"ALgjXCpgWIzALIPH-8OI\"\n",
    "start_date = \"2019-10-01\"\n",
    "end_date= \"2020-05-15\"\n",
    "format = \"records\"\n",
    "fields = \"ohlc\""
   ]
  },
  {
   "cell_type": "code",
   "execution_count": 41,
   "metadata": {},
   "outputs": [],
   "source": [
    "# Loading the EURUSD data\n",
    "eur_usd = pd.read_json(\"https://tm-marketdata.com/api/v1/pandasDF?currency=\"+currency+\"&api_key=\"+api_key+\"&start_date=\"+start_date+\"&end_date=\"+end_date+\"&format=\"+format+\"&fields=\"+fields)"
   ]
  },
  {
   "cell_type": "code",
   "execution_count": 43,
   "metadata": {},
   "outputs": [],
   "source": [
    "# Setting the date column as index since we essentially want time-series data\n",
    "eur_usd.set_index('date',inplace=True)"
   ]
  },
  {
   "cell_type": "code",
   "execution_count": 44,
   "metadata": {},
   "outputs": [
    {
     "data": {
      "text/html": [
       "<div>\n",
       "<style scoped>\n",
       "    .dataframe tbody tr th:only-of-type {\n",
       "        vertical-align: middle;\n",
       "    }\n",
       "\n",
       "    .dataframe tbody tr th {\n",
       "        vertical-align: top;\n",
       "    }\n",
       "\n",
       "    .dataframe thead th {\n",
       "        text-align: right;\n",
       "    }\n",
       "</style>\n",
       "<table border=\"1\" class=\"dataframe\">\n",
       "  <thead>\n",
       "    <tr style=\"text-align: right;\">\n",
       "      <th></th>\n",
       "      <th>close</th>\n",
       "      <th>high</th>\n",
       "      <th>low</th>\n",
       "      <th>open</th>\n",
       "    </tr>\n",
       "    <tr>\n",
       "      <th>date</th>\n",
       "      <th></th>\n",
       "      <th></th>\n",
       "      <th></th>\n",
       "      <th></th>\n",
       "    </tr>\n",
       "  </thead>\n",
       "  <tbody>\n",
       "    <tr>\n",
       "      <th>2019-10-01</th>\n",
       "      <td>1.09331</td>\n",
       "      <td>1.09437</td>\n",
       "      <td>1.08790</td>\n",
       "      <td>1.08991</td>\n",
       "    </tr>\n",
       "    <tr>\n",
       "      <th>2019-10-02</th>\n",
       "      <td>1.09591</td>\n",
       "      <td>1.09638</td>\n",
       "      <td>1.09039</td>\n",
       "      <td>1.09331</td>\n",
       "    </tr>\n",
       "    <tr>\n",
       "      <th>2019-10-03</th>\n",
       "      <td>1.09655</td>\n",
       "      <td>1.09996</td>\n",
       "      <td>1.09410</td>\n",
       "      <td>1.09600</td>\n",
       "    </tr>\n",
       "    <tr>\n",
       "      <th>2019-10-04</th>\n",
       "      <td>1.09787</td>\n",
       "      <td>1.10015</td>\n",
       "      <td>1.09571</td>\n",
       "      <td>1.09650</td>\n",
       "    </tr>\n",
       "    <tr>\n",
       "      <th>2019-10-07</th>\n",
       "      <td>1.09708</td>\n",
       "      <td>1.10008</td>\n",
       "      <td>1.09619</td>\n",
       "      <td>1.09830</td>\n",
       "    </tr>\n",
       "  </tbody>\n",
       "</table>\n",
       "</div>"
      ],
      "text/plain": [
       "              close     high      low     open\n",
       "date                                          \n",
       "2019-10-01  1.09331  1.09437  1.08790  1.08991\n",
       "2019-10-02  1.09591  1.09638  1.09039  1.09331\n",
       "2019-10-03  1.09655  1.09996  1.09410  1.09600\n",
       "2019-10-04  1.09787  1.10015  1.09571  1.09650\n",
       "2019-10-07  1.09708  1.10008  1.09619  1.09830"
      ]
     },
     "execution_count": 44,
     "metadata": {},
     "output_type": "execute_result"
    }
   ],
   "source": [
    "eur_usd.head()"
   ]
  },
  {
   "cell_type": "code",
   "execution_count": 33,
   "metadata": {},
   "outputs": [],
   "source": [
    "#amzn.set_index(\"Date\",inplace=True) # "
   ]
  },
  {
   "cell_type": "code",
   "execution_count": 45,
   "metadata": {},
   "outputs": [
    {
     "data": {
      "text/html": [
       "<div>\n",
       "<style scoped>\n",
       "    .dataframe tbody tr th:only-of-type {\n",
       "        vertical-align: middle;\n",
       "    }\n",
       "\n",
       "    .dataframe tbody tr th {\n",
       "        vertical-align: top;\n",
       "    }\n",
       "\n",
       "    .dataframe thead th {\n",
       "        text-align: right;\n",
       "    }\n",
       "</style>\n",
       "<table border=\"1\" class=\"dataframe\">\n",
       "  <thead>\n",
       "    <tr style=\"text-align: right;\">\n",
       "      <th></th>\n",
       "      <th>Adj. Close</th>\n",
       "    </tr>\n",
       "    <tr>\n",
       "      <th>Date</th>\n",
       "      <th></th>\n",
       "    </tr>\n",
       "  </thead>\n",
       "  <tbody>\n",
       "    <tr>\n",
       "      <th>2012-01-03</th>\n",
       "      <td>179.03</td>\n",
       "    </tr>\n",
       "    <tr>\n",
       "      <th>2012-01-04</th>\n",
       "      <td>177.51</td>\n",
       "    </tr>\n",
       "    <tr>\n",
       "      <th>2012-01-05</th>\n",
       "      <td>177.61</td>\n",
       "    </tr>\n",
       "    <tr>\n",
       "      <th>2012-01-06</th>\n",
       "      <td>182.61</td>\n",
       "    </tr>\n",
       "    <tr>\n",
       "      <th>2012-01-09</th>\n",
       "      <td>178.56</td>\n",
       "    </tr>\n",
       "  </tbody>\n",
       "</table>\n",
       "</div>"
      ],
      "text/plain": [
       "            Adj. Close\n",
       "Date                  \n",
       "2012-01-03      179.03\n",
       "2012-01-04      177.51\n",
       "2012-01-05      177.61\n",
       "2012-01-06      182.61\n",
       "2012-01-09      178.56"
      ]
     },
     "execution_count": 45,
     "metadata": {},
     "output_type": "execute_result"
    }
   ],
   "source": [
    "amzn.head()"
   ]
  },
  {
   "cell_type": "code",
   "execution_count": 49,
   "metadata": {},
   "outputs": [
    {
     "data": {
      "text/plain": [
       "<matplotlib.axes._subplots.AxesSubplot at 0x4ae35ed8d0>"
      ]
     },
     "execution_count": 49,
     "metadata": {},
     "output_type": "execute_result"
    },
    {
     "data": {
      "image/png": "[encoded data removed]",
      "text/plain": [
       "<Figure size 864x576 with 1 Axes>"
      ]
     },
     "metadata": {
      "needs_background": "light"
     },
     "output_type": "display_data"
    }
   ],
   "source": [
    "amzn.plot(figsize=(12,8)) # Visualizing the Amazon stock (Adjusted close price) data using matplotlib"
   ]
  },
  {
   "cell_type": "code",
   "execution_count": 47,
   "metadata": {},
   "outputs": [
    {
     "data": {
      "image/png": "[encoded data removed]",
      "text/plain": [
       "<Figure size 432x288 with 1 Axes>"
      ]
     },
     "metadata": {
      "needs_background": "light"
     },
     "output_type": "display_data"
    }
   ],
   "source": [
    "eur_usd['close'].plot(); # Visualizing the EURUSD close price data "
   ]
  },
  {
   "cell_type": "code",
   "execution_count": 52,
   "metadata": {},
   "outputs": [
    {
     "data": {
      "text/plain": [
       "(-0.1589471230489844,\n",
       " 0.9432413665349045,\n",
       " 0,\n",
       " 1257,\n",
       " {'1%': -3.4355629707955395,\n",
       "  '5%': -2.863842063387667,\n",
       "  '10%': -2.567995644141416},\n",
       " 8840.495805479291)"
      ]
     },
     "execution_count": 52,
     "metadata": {},
     "output_type": "execute_result"
    }
   ],
   "source": [
    "# Implementing the ADF mean reversion test with a lag order of 1\n",
    "ts.adfuller(amzn['Adj. Close'],1)"
   ]
  },
  {
   "cell_type": "code",
   "execution_count": 53,
   "metadata": {},
   "outputs": [
    {
     "data": {
      "text/plain": [
       "(-2.97081642222466,\n",
       " 0.03771112633236811,\n",
       " 1,\n",
       " 163,\n",
       " {'1%': -3.471118535474365,\n",
       "  '5%': -2.8794405060097024,\n",
       "  '10%': -2.576313761526591},\n",
       " -1110.3154940456154)"
      ]
     },
     "execution_count": 53,
     "metadata": {},
     "output_type": "execute_result"
    }
   ],
   "source": [
    "ts.adfuller(eur_usd['close'],1)"
   ]
  },
  {
   "cell_type": "markdown",
   "metadata": {},
   "source": [
    "# Analysis of results"
   ]
  },
  {
   "cell_type": "markdown",
   "metadata": {},
   "source": [
    "\n",
    "For the Amazon test: \n",
    "\n",
    "(-0.1589471230489844,- This term represents the calculated test-statistic\n",
    " 0.9432413665349045, - This term represents the p-value\n",
    " 0,\n",
    " 1257, - This represents the number of data points considered\n",
    " {'1%': -3.4355629707955395,  The represents the critical test-statistic statistic value for 1%\n",
    "  '5%': -2.863842063387667,   The represents the critical test-statistic statistic value for 5%\n",
    "  '10%': -2.567995644141416}, The represents the critical test-statistic statistic value for 10%\n",
    " 8840.495805479291)\n",
    " \n",
    "Result:\n",
    "      \n",
    "  Since the calculated value of the test statistic is larger than any of the critical values (1%,5%,10%); the amazon stock (for the time window considered) is not mean reverting\n",
    "  The same applies to EURUSD"
   ]
  },
  {
   "cell_type": "code",
   "execution_count": null,
   "metadata": {},
   "outputs": [],
   "source": []
  }
 ],
 "metadata": {
  "kernelspec": {
   "display_name": "Python 3",
   "language": "python",
   "name": "python3"
  },
  "language_info": {
   "codemirror_mode": {
    "name": "ipython",
    "version": 3
   },
   "file_extension": ".py",
   "mimetype": "text/x-python",
   "name": "python",
   "nbconvert_exporter": "python",
   "pygments_lexer": "ipython3",
   "version": "3.7.0"
  }
 },
 "nbformat": 4,
 "nbformat_minor": 2
}
